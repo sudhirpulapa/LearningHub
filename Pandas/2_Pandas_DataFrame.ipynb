{
 "cells": [
  {
   "cell_type": "markdown",
   "id": "993e3cea-3848-4bb8-8f35-d81b39bb80b2",
   "metadata": {},
   "source": [
    "# Pandas: DataFrame \n",
    "\n",
    "- A pre-defined class in Pandas\n"
   ]
  },
  {
   "cell_type": "code",
   "execution_count": 2,
   "id": "3eb398c4-89d8-4349-9cc2-fd181df216a4",
   "metadata": {},
   "outputs": [],
   "source": [
    "# Importing Pandas library \n",
    "import pandas as pd "
   ]
  },
  {
   "cell_type": "markdown",
   "id": "495581be-290d-4ab6-8664-a0a9f2d67855",
   "metadata": {},
   "source": [
    "### `Creating an empty DataFrame`"
   ]
  },
  {
   "cell_type": "code",
   "execution_count": 3,
   "id": "66a482dc-6eac-419b-bae3-dd3372e1f0b7",
   "metadata": {},
   "outputs": [
    {
     "name": "stdout",
     "output_type": "stream",
     "text": [
      "Empty DataFrame\n",
      "Columns: []\n",
      "Index: []\n",
      "<class 'pandas.core.frame.DataFrame'>\n"
     ]
    }
   ],
   "source": [
    "# Creating empty DataFrame\n",
    "df = pd.DataFrame()\n",
    "print(df) \n",
    "print(type(df))"
   ]
  },
  {
   "cell_type": "markdown",
   "id": "b60c29e0-2d23-455c-a9dd-56cc20d21396",
   "metadata": {},
   "source": [
    "### `Creating a DataFrame by using List`"
   ]
  },
  {
   "cell_type": "code",
   "execution_count": 4,
   "id": "da8527d2-41f8-4ee3-ac20-fc9d3ae79f71",
   "metadata": {},
   "outputs": [
    {
     "name": "stdout",
     "output_type": "stream",
     "text": [
      "    0\n",
      "0  10\n",
      "1  20\n",
      "2  30\n",
      "3  40\n",
      "4  50\n",
      "5  60\n",
      "6  70\n",
      "7  80\n",
      "8  90\n",
      "<class 'pandas.core.frame.DataFrame'>\n"
     ]
    }
   ],
   "source": [
    "# Creating DataFrame using single list \n",
    "a = [10, 20, 30, 40, 50, 60, 70, 80, 90]\n",
    "df = pd.DataFrame(a) \n",
    "print(df) \n",
    "print(type(df))"
   ]
  },
  {
   "cell_type": "code",
   "execution_count": 5,
   "id": "2762b898-d110-4823-8d49-bf996705ece7",
   "metadata": {},
   "outputs": [
    {
     "name": "stdout",
     "output_type": "stream",
     "text": [
      "          0\n",
      "0    Pushpa\n",
      "1       RRR\n",
      "2       KGF\n",
      "3  Bahubali\n",
      "4     Tiger\n"
     ]
    }
   ],
   "source": [
    "names = [\"Pushpa\", \"RRR\", \"KGF\", \"Bahubali\", \"Tiger\"]\n",
    "df = pd.DataFrame(names)\n",
    "print(df) "
   ]
  },
  {
   "cell_type": "code",
   "execution_count": 6,
   "id": "3072e2bb-69f9-423c-b845-af65a67fd294",
   "metadata": {},
   "outputs": [
    {
     "name": "stdout",
     "output_type": "stream",
     "text": [
      "          0\n",
      "0    Pushpa\n",
      "1       RRR\n",
      "2       KGF\n",
      "3  Bahubali\n",
      "4     Tiger\n",
      "\n",
      "The length of the dataframe is: 5\n"
     ]
    }
   ],
   "source": [
    "# Creating single column DataFrame and checking length \n",
    "print(df) \n",
    "print()\n",
    "print(f\"The length of the dataframe is: {len(df)}\")"
   ]
  },
  {
   "cell_type": "markdown",
   "id": "05258209-3640-451c-b5cc-b98edf288b76",
   "metadata": {},
   "source": [
    "### `Creating a DataFrame by using list of lists`"
   ]
  },
  {
   "cell_type": "code",
   "execution_count": 7,
   "id": "1c001fb6-a4af-491f-803d-64fb3db8d5d2",
   "metadata": {},
   "outputs": [
    {
     "name": "stdout",
     "output_type": "stream",
     "text": [
      "   0           1\n",
      "0  1  Allu Arjun\n",
      "1  2  Ram Charan\n",
      "2  3      Suriya\n",
      "3  4      Karthi\n",
      "4  5      Jr.NTR\n",
      "5  6        Ravi\n",
      "6  7         Ram\n"
     ]
    }
   ],
   "source": [
    "# Creating DataFrame by using list of lists \n",
    "details = [\n",
    "    [1, \"Allu Arjun\"],\n",
    "    [2, \"Ram Charan\"],\n",
    "    [3, \"Suriya\"],\n",
    "    [4, \"Karthi\"],\n",
    "    [5, \"Jr.NTR\"],\n",
    "    [6, \"Ravi\"],\n",
    "    [7, \"Ram\"]\n",
    "]\n",
    "\n",
    "df = pd.DataFrame(details) \n",
    "print(df) "
   ]
  },
  {
   "cell_type": "code",
   "execution_count": 13,
   "id": "33e06484-26d1-4225-8c07-6405683a98db",
   "metadata": {},
   "outputs": [
    {
     "data": {
      "text/html": [
       "<div>\n",
       "<style scoped>\n",
       "    .dataframe tbody tr th:only-of-type {\n",
       "        vertical-align: middle;\n",
       "    }\n",
       "\n",
       "    .dataframe tbody tr th {\n",
       "        vertical-align: top;\n",
       "    }\n",
       "\n",
       "    .dataframe thead th {\n",
       "        text-align: right;\n",
       "    }\n",
       "</style>\n",
       "<table border=\"1\" class=\"dataframe\">\n",
       "  <thead>\n",
       "    <tr style=\"text-align: right;\">\n",
       "      <th></th>\n",
       "      <th>S.No</th>\n",
       "      <th>Name</th>\n",
       "      <th>Remuneration</th>\n",
       "    </tr>\n",
       "  </thead>\n",
       "  <tbody>\n",
       "    <tr>\n",
       "      <th>row1</th>\n",
       "      <td>1</td>\n",
       "      <td>Allu Arjun</td>\n",
       "      <td>700000000</td>\n",
       "    </tr>\n",
       "    <tr>\n",
       "      <th>row2</th>\n",
       "      <td>2</td>\n",
       "      <td>Ram Charan</td>\n",
       "      <td>600000000</td>\n",
       "    </tr>\n",
       "    <tr>\n",
       "      <th>row3</th>\n",
       "      <td>3</td>\n",
       "      <td>Suriya</td>\n",
       "      <td>500000000</td>\n",
       "    </tr>\n",
       "    <tr>\n",
       "      <th>row4</th>\n",
       "      <td>4</td>\n",
       "      <td>Karthi</td>\n",
       "      <td>400000000</td>\n",
       "    </tr>\n",
       "    <tr>\n",
       "      <th>row5</th>\n",
       "      <td>5</td>\n",
       "      <td>Jr.NTR</td>\n",
       "      <td>300000000</td>\n",
       "    </tr>\n",
       "    <tr>\n",
       "      <th>row6</th>\n",
       "      <td>6</td>\n",
       "      <td>Ravi</td>\n",
       "      <td>200000000</td>\n",
       "    </tr>\n",
       "    <tr>\n",
       "      <th>row7</th>\n",
       "      <td>7</td>\n",
       "      <td>Ram</td>\n",
       "      <td>100000000</td>\n",
       "    </tr>\n",
       "  </tbody>\n",
       "</table>\n",
       "</div>"
      ],
      "text/plain": [
       "      S.No        Name  Remuneration\n",
       "row1     1  Allu Arjun     700000000\n",
       "row2     2  Ram Charan     600000000\n",
       "row3     3      Suriya     500000000\n",
       "row4     4      Karthi     400000000\n",
       "row5     5      Jr.NTR     300000000\n",
       "row6     6        Ravi     200000000\n",
       "row7     7         Ram     100000000"
      ]
     },
     "execution_count": 13,
     "metadata": {},
     "output_type": "execute_result"
    }
   ],
   "source": [
    "# Creating DataFrame and giving names to columns \n",
    "details = [\n",
    "    [1, \"Allu Arjun\", 700000000],\n",
    "    [2, \"Ram Charan\", 600000000],\n",
    "    [3, \"Suriya\", 500000000],\n",
    "    [4, \"Karthi\", 400000000],\n",
    "    [5, \"Jr.NTR\", 300000000],\n",
    "    [6, \"Ravi\", 200000000],\n",
    "    [7, \"Ram\", 100000000]\n",
    "]\n",
    "i = ['row1', 'row2', 'row3', 'row4', 'row5', 'row6', 'row7']\n",
    "cols = [\"S.No\", \"Name\", \"Remuneration\"]\n",
    "df = pd.DataFrame(details, columns = cols, index = i)\n",
    "df"
   ]
  },
  {
   "cell_type": "markdown",
   "id": "97301641-dd5a-47a9-9c4d-d10b5c310d16",
   "metadata": {},
   "source": [
    "### `Creating a DataFrame by using Dictionary`"
   ]
  },
  {
   "cell_type": "code",
   "execution_count": 12,
   "id": "77a24915-23da-4029-a052-64d1bd6cd6b5",
   "metadata": {},
   "outputs": [
    {
     "data": {
      "text/html": [
       "<div>\n",
       "<style scoped>\n",
       "    .dataframe tbody tr th:only-of-type {\n",
       "        vertical-align: middle;\n",
       "    }\n",
       "\n",
       "    .dataframe tbody tr th {\n",
       "        vertical-align: top;\n",
       "    }\n",
       "\n",
       "    .dataframe thead th {\n",
       "        text-align: right;\n",
       "    }\n",
       "</style>\n",
       "<table border=\"1\" class=\"dataframe\">\n",
       "  <thead>\n",
       "    <tr style=\"text-align: right;\">\n",
       "      <th></th>\n",
       "      <th>Name</th>\n",
       "      <th>Age</th>\n",
       "    </tr>\n",
       "  </thead>\n",
       "  <tbody>\n",
       "    <tr>\n",
       "      <th>0</th>\n",
       "      <td>Bunny</td>\n",
       "      <td>41</td>\n",
       "    </tr>\n",
       "    <tr>\n",
       "      <th>1</th>\n",
       "      <td>Ram Charan</td>\n",
       "      <td>38</td>\n",
       "    </tr>\n",
       "    <tr>\n",
       "      <th>2</th>\n",
       "      <td>NTR</td>\n",
       "      <td>40</td>\n",
       "    </tr>\n",
       "    <tr>\n",
       "      <th>3</th>\n",
       "      <td>Nani</td>\n",
       "      <td>37</td>\n",
       "    </tr>\n",
       "    <tr>\n",
       "      <th>4</th>\n",
       "      <td>Ravi</td>\n",
       "      <td>51</td>\n",
       "    </tr>\n",
       "  </tbody>\n",
       "</table>\n",
       "</div>"
      ],
      "text/plain": [
       "         Name  Age\n",
       "0       Bunny   41\n",
       "1  Ram Charan   38\n",
       "2         NTR   40\n",
       "3        Nani   37\n",
       "4        Ravi   51"
      ]
     },
     "execution_count": 12,
     "metadata": {},
     "output_type": "execute_result"
    }
   ],
   "source": [
    "details = {\n",
    "    \"Name\": [\"Bunny\", \"Ram Charan\", \"NTR\", \"Nani\", \"Ravi\"],\n",
    "    \"Age\": [41, 38, 40, 37, 51]\n",
    "}\n",
    "\n",
    "df = pd.DataFrame(details) \n",
    "df"
   ]
  },
  {
   "cell_type": "markdown",
   "id": "8c42edea-4063-4e5e-acac-6b06dd30bec8",
   "metadata": {},
   "source": [
    "### `Creating DataFrame by loading the files`"
   ]
  },
  {
   "cell_type": "code",
   "execution_count": 14,
   "id": "b19c0df4-2140-4fd9-8696-8c026e76651b",
   "metadata": {},
   "outputs": [
    {
     "data": {
      "text/html": [
       "<div>\n",
       "<style scoped>\n",
       "    .dataframe tbody tr th:only-of-type {\n",
       "        vertical-align: middle;\n",
       "    }\n",
       "\n",
       "    .dataframe tbody tr th {\n",
       "        vertical-align: top;\n",
       "    }\n",
       "\n",
       "    .dataframe thead th {\n",
       "        text-align: right;\n",
       "    }\n",
       "</style>\n",
       "<table border=\"1\" class=\"dataframe\">\n",
       "  <thead>\n",
       "    <tr style=\"text-align: right;\">\n",
       "      <th></th>\n",
       "      <th>Order ID</th>\n",
       "      <th>Customer Name</th>\n",
       "      <th>Product</th>\n",
       "      <th>Quantity</th>\n",
       "    </tr>\n",
       "  </thead>\n",
       "  <tbody>\n",
       "    <tr>\n",
       "      <th>0</th>\n",
       "      <td>166837</td>\n",
       "      <td>Veeru</td>\n",
       "      <td>34in Ultrawide Monitor</td>\n",
       "      <td>2</td>\n",
       "    </tr>\n",
       "    <tr>\n",
       "      <th>1</th>\n",
       "      <td>166838</td>\n",
       "      <td>Tarun</td>\n",
       "      <td>Samsung m10</td>\n",
       "      <td>3</td>\n",
       "    </tr>\n",
       "    <tr>\n",
       "      <th>2</th>\n",
       "      <td>166839</td>\n",
       "      <td>Kedar</td>\n",
       "      <td>20in Monitor</td>\n",
       "      <td>1</td>\n",
       "    </tr>\n",
       "    <tr>\n",
       "      <th>3</th>\n",
       "      <td>166840</td>\n",
       "      <td>Lavanya</td>\n",
       "      <td>iPhone 11</td>\n",
       "      <td>3</td>\n",
       "    </tr>\n",
       "    <tr>\n",
       "      <th>4</th>\n",
       "      <td>166841</td>\n",
       "      <td>Venu</td>\n",
       "      <td>Macbook Pro Laptop</td>\n",
       "      <td>2</td>\n",
       "    </tr>\n",
       "    <tr>\n",
       "      <th>...</th>\n",
       "      <td>...</td>\n",
       "      <td>...</td>\n",
       "      <td>...</td>\n",
       "      <td>...</td>\n",
       "    </tr>\n",
       "    <tr>\n",
       "      <th>595</th>\n",
       "      <td>167403</td>\n",
       "      <td>Balaji</td>\n",
       "      <td>Macbook Pro Laptop</td>\n",
       "      <td>1</td>\n",
       "    </tr>\n",
       "    <tr>\n",
       "      <th>596</th>\n",
       "      <td>167404</td>\n",
       "      <td>Lavanya</td>\n",
       "      <td>ThinkPad Laptop</td>\n",
       "      <td>1</td>\n",
       "    </tr>\n",
       "    <tr>\n",
       "      <th>597</th>\n",
       "      <td>167405</td>\n",
       "      <td>Venu</td>\n",
       "      <td>Flatscreen TV</td>\n",
       "      <td>1</td>\n",
       "    </tr>\n",
       "    <tr>\n",
       "      <th>598</th>\n",
       "      <td>167406</td>\n",
       "      <td>Siddhu</td>\n",
       "      <td>Samsung m20</td>\n",
       "      <td>2</td>\n",
       "    </tr>\n",
       "    <tr>\n",
       "      <th>599</th>\n",
       "      <td>167407</td>\n",
       "      <td>Tarun</td>\n",
       "      <td>LG Washing Machine</td>\n",
       "      <td>1</td>\n",
       "    </tr>\n",
       "  </tbody>\n",
       "</table>\n",
       "<p>600 rows × 4 columns</p>\n",
       "</div>"
      ],
      "text/plain": [
       "     Order ID Customer Name                 Product  Quantity\n",
       "0      166837         Veeru  34in Ultrawide Monitor         2\n",
       "1      166838         Tarun             Samsung m10         3\n",
       "2      166839         Kedar            20in Monitor         1\n",
       "3      166840       Lavanya               iPhone 11         3\n",
       "4      166841          Venu      Macbook Pro Laptop         2\n",
       "..        ...           ...                     ...       ...\n",
       "595    167403        Balaji      Macbook Pro Laptop         1\n",
       "596    167404       Lavanya         ThinkPad Laptop         1\n",
       "597    167405          Venu           Flatscreen TV         1\n",
       "598    167406        Siddhu             Samsung m20         2\n",
       "599    167407         Tarun      LG Washing Machine         1\n",
       "\n",
       "[600 rows x 4 columns]"
      ]
     },
     "execution_count": 14,
     "metadata": {},
     "output_type": "execute_result"
    }
   ],
   "source": [
    "df = pd.read_csv(\"sales1.csv\") \n",
    "df"
   ]
  },
  {
   "cell_type": "code",
   "execution_count": 16,
   "id": "2801182e-f58a-4d1d-b82a-5fb7815f2f0e",
   "metadata": {},
   "outputs": [
    {
     "name": "stdout",
     "output_type": "stream",
     "text": [
      "      col1 col2\n",
      "row1     1    x\n",
      "row2     2    y\n",
      "row3     3    z\n"
     ]
    }
   ],
   "source": [
    "# load pandas and json modules                                                                                               \n",
    "import pandas as pd\n",
    "import json\n",
    "\n",
    "# json string                                                                                                                \n",
    "s = '{\"col1\":{\"row1\":1,\"row2\":2,\"row3\":3},\"col2\":{\"row1\":\"x\",\"row2\":\"y\",\"row3\":\"z\"}}'\n",
    "\n",
    "# read json to data frame                                                                                                    \n",
    "df = pd.read_json(s)\n",
    "print(df)"
   ]
  },
  {
   "cell_type": "code",
   "execution_count": 19,
   "id": "3e21934c-e3d1-4228-845f-7a4c02c2920e",
   "metadata": {},
   "outputs": [
    {
     "data": {
      "text/html": [
       "<div>\n",
       "<style scoped>\n",
       "    .dataframe tbody tr th:only-of-type {\n",
       "        vertical-align: middle;\n",
       "    }\n",
       "\n",
       "    .dataframe tbody tr th {\n",
       "        vertical-align: top;\n",
       "    }\n",
       "\n",
       "    .dataframe thead th {\n",
       "        text-align: right;\n",
       "    }\n",
       "</style>\n",
       "<table border=\"1\" class=\"dataframe\">\n",
       "  <thead>\n",
       "    <tr style=\"text-align: right;\">\n",
       "      <th></th>\n",
       "      <th>provider</th>\n",
       "      <th>WARNING_UPGRADE_TO_V6</th>\n",
       "      <th>terms</th>\n",
       "      <th>base</th>\n",
       "      <th>date</th>\n",
       "      <th>time_last_updated</th>\n",
       "      <th>rates.USD</th>\n",
       "      <th>rates.AED</th>\n",
       "      <th>rates.AFN</th>\n",
       "      <th>rates.ALL</th>\n",
       "      <th>...</th>\n",
       "      <th>rates.WST</th>\n",
       "      <th>rates.XAF</th>\n",
       "      <th>rates.XCD</th>\n",
       "      <th>rates.XDR</th>\n",
       "      <th>rates.XOF</th>\n",
       "      <th>rates.XPF</th>\n",
       "      <th>rates.YER</th>\n",
       "      <th>rates.ZAR</th>\n",
       "      <th>rates.ZMW</th>\n",
       "      <th>rates.ZWL</th>\n",
       "    </tr>\n",
       "  </thead>\n",
       "  <tbody>\n",
       "    <tr>\n",
       "      <th>0</th>\n",
       "      <td>https://www.exchangerate-api.com</td>\n",
       "      <td>https://www.exchangerate-api.com/docs/free</td>\n",
       "      <td>https://www.exchangerate-api.com/terms</td>\n",
       "      <td>USD</td>\n",
       "      <td>2023-11-16</td>\n",
       "      <td>1700092801</td>\n",
       "      <td>1</td>\n",
       "      <td>3.67</td>\n",
       "      <td>73.52</td>\n",
       "      <td>96.4</td>\n",
       "      <td>...</td>\n",
       "      <td>2.75</td>\n",
       "      <td>604.43</td>\n",
       "      <td>2.7</td>\n",
       "      <td>0.754</td>\n",
       "      <td>604.43</td>\n",
       "      <td>109.96</td>\n",
       "      <td>249.2</td>\n",
       "      <td>18.19</td>\n",
       "      <td>23.09</td>\n",
       "      <td>5777.35</td>\n",
       "    </tr>\n",
       "  </tbody>\n",
       "</table>\n",
       "<p>1 rows × 168 columns</p>\n",
       "</div>"
      ],
      "text/plain": [
       "                           provider  \\\n",
       "0  https://www.exchangerate-api.com   \n",
       "\n",
       "                        WARNING_UPGRADE_TO_V6  \\\n",
       "0  https://www.exchangerate-api.com/docs/free   \n",
       "\n",
       "                                    terms base        date  time_last_updated  \\\n",
       "0  https://www.exchangerate-api.com/terms  USD  2023-11-16         1700092801   \n",
       "\n",
       "   rates.USD  rates.AED  rates.AFN  rates.ALL  ...  rates.WST  rates.XAF  \\\n",
       "0          1       3.67      73.52       96.4  ...       2.75     604.43   \n",
       "\n",
       "   rates.XCD  rates.XDR  rates.XOF  rates.XPF  rates.YER  rates.ZAR  \\\n",
       "0        2.7      0.754     604.43     109.96      249.2      18.19   \n",
       "\n",
       "   rates.ZMW  rates.ZWL  \n",
       "0      23.09    5777.35  \n",
       "\n",
       "[1 rows x 168 columns]"
      ]
     },
     "execution_count": 19,
     "metadata": {},
     "output_type": "execute_result"
    }
   ],
   "source": [
    "import requests\n",
    "from pandas import json_normalize\n",
    "import pandas as pd\n",
    "\n",
    "url = \"https://api.exchangerate-api.com/v4/latest/USD\"\n",
    "response = requests.get(url)\n",
    "data = response.json()\n",
    "\n",
    "# Use json_normalize as usual\n",
    "normalized_data = json_normalize(data)\n",
    "normalized_data"
   ]
  },
  {
   "cell_type": "code",
   "execution_count": 20,
   "id": "cef4a140-4641-401f-9c83-59ca0c9a3171",
   "metadata": {},
   "outputs": [],
   "source": [
    "# pip install xlrd "
   ]
  },
  {
   "cell_type": "code",
   "execution_count": 21,
   "id": "c0714f1e-5f56-4c42-91a5-f11f782b7e8a",
   "metadata": {},
   "outputs": [],
   "source": [
    "# pd.read_excel(\"files name with path\") "
   ]
  },
  {
   "cell_type": "code",
   "execution_count": 22,
   "id": "b5622675-f38a-412a-b529-77c94391635f",
   "metadata": {},
   "outputs": [],
   "source": [
    "# df = pd.read_excel(\"sales1.xlsx\")"
   ]
  },
  {
   "cell_type": "code",
   "execution_count": 23,
   "id": "0957e5e4-b306-4e91-a049-889aa1a2cfaf",
   "metadata": {},
   "outputs": [],
   "source": [
    "# df = pd.read_table(\"sales1.tsv\") \n",
    "# Tab Separated File (tsv) "
   ]
  },
  {
   "cell_type": "code",
   "execution_count": 24,
   "id": "5123eafe-3541-47a6-bcdb-a774b44b3904",
   "metadata": {},
   "outputs": [],
   "source": [
    "# pd.read_html(\"url\") \n",
    "# url = \"paste_the_link_here\"\n",
    "# df = pd.read_html(url) "
   ]
  },
  {
   "cell_type": "markdown",
   "id": "1960069c-beda-40b0-bc88-b7c47ffb983c",
   "metadata": {},
   "source": [
    "## Pandas: DataFrame Attributes: "
   ]
  },
  {
   "cell_type": "code",
   "execution_count": null,
   "id": "aef05bbe-224d-4f47-adf5-c0b336b01b01",
   "metadata": {},
   "outputs": [],
   "source": []
  },
  {
   "cell_type": "code",
   "execution_count": null,
   "id": "3272e682-43ec-4482-8b5c-ff4b8cbb66ee",
   "metadata": {},
   "outputs": [],
   "source": []
  },
  {
   "cell_type": "markdown",
   "id": "325252e2-f288-4561-a282-4653d83bde32",
   "metadata": {},
   "source": [
    "## Pandas: DataFrame Methods: "
   ]
  },
  {
   "cell_type": "code",
   "execution_count": null,
   "id": "08c1a62a-34d9-44bc-9d0b-8b1ed2ef3c71",
   "metadata": {},
   "outputs": [],
   "source": []
  },
  {
   "cell_type": "code",
   "execution_count": null,
   "id": "47be6d95-b2c5-4782-9bc2-575eaf28e102",
   "metadata": {},
   "outputs": [],
   "source": []
  },
  {
   "cell_type": "code",
   "execution_count": null,
   "id": "ec2805ed-0114-49b7-af6f-9c3d8093212b",
   "metadata": {},
   "outputs": [],
   "source": []
  },
  {
   "cell_type": "markdown",
   "id": "4942bcbc-5bb0-4220-9574-4b024672d9e4",
   "metadata": {},
   "source": [
    "## Pandas: DataFrame: Renaming Column, Index: "
   ]
  },
  {
   "cell_type": "code",
   "execution_count": null,
   "id": "e7de8233-14ee-4f84-9217-3f350aeaef46",
   "metadata": {},
   "outputs": [],
   "source": []
  },
  {
   "cell_type": "code",
   "execution_count": null,
   "id": "8df66857-0af3-4925-a461-83df769e797a",
   "metadata": {},
   "outputs": [],
   "source": []
  },
  {
   "cell_type": "code",
   "execution_count": null,
   "id": "a658df04-c480-4516-91ca-e53bd49c7182",
   "metadata": {},
   "outputs": [],
   "source": []
  },
  {
   "cell_type": "code",
   "execution_count": null,
   "id": "fa24736b-5299-4a99-823b-d89fa7cdc437",
   "metadata": {},
   "outputs": [],
   "source": []
  },
  {
   "cell_type": "markdown",
   "id": "4dce4463-302a-493a-9824-7d908f9a75d3",
   "metadata": {},
   "source": [
    "## Pandas: DataFrame: Inplace Parameter:"
   ]
  },
  {
   "cell_type": "code",
   "execution_count": null,
   "id": "73629379-41bf-4772-9b43-d1a7a555d850",
   "metadata": {},
   "outputs": [],
   "source": []
  },
  {
   "cell_type": "code",
   "execution_count": null,
   "id": "f3ecbeeb-9e4b-496f-ab8f-91bc17e4e8a1",
   "metadata": {},
   "outputs": [],
   "source": []
  },
  {
   "cell_type": "code",
   "execution_count": null,
   "id": "d8e7e883-cf6d-4c76-b03b-55844a15fb8d",
   "metadata": {},
   "outputs": [],
   "source": []
  },
  {
   "cell_type": "markdown",
   "id": "be656a4a-8950-4cc5-ba48-694866cd6b6e",
   "metadata": {},
   "source": [
    "## Pandas: DataFrame: Missing Values: "
   ]
  },
  {
   "cell_type": "code",
   "execution_count": null,
   "id": "11eeb375-d500-4e65-9e57-be4693fe3954",
   "metadata": {},
   "outputs": [],
   "source": []
  },
  {
   "cell_type": "code",
   "execution_count": null,
   "id": "cee4a5e8-8f13-4a74-9461-dbee6827ac2d",
   "metadata": {},
   "outputs": [],
   "source": []
  },
  {
   "cell_type": "code",
   "execution_count": null,
   "id": "45f5b30b-80d8-4d81-bd71-7d7fb62de42f",
   "metadata": {},
   "outputs": [],
   "source": []
  },
  {
   "cell_type": "markdown",
   "id": "ac5a5055-0853-4e65-83bc-8b73b8262df6",
   "metadata": {},
   "source": [
    "## Pandas: DataFrame: iloc and loc: "
   ]
  },
  {
   "cell_type": "code",
   "execution_count": null,
   "id": "48167196-eef7-4170-8b13-4bcc3ba41512",
   "metadata": {},
   "outputs": [],
   "source": []
  },
  {
   "cell_type": "code",
   "execution_count": null,
   "id": "f17b8ec5-fc09-49fa-a0fb-e00304b52659",
   "metadata": {},
   "outputs": [],
   "source": []
  },
  {
   "cell_type": "markdown",
   "id": "7e283e27-04ae-4de7-bc62-acce62f19600",
   "metadata": {},
   "source": [
    "## Pandas: DataFrame: Filtering: "
   ]
  },
  {
   "cell_type": "code",
   "execution_count": null,
   "id": "735556ea-c969-4cc4-ac14-9e0fd368e4b1",
   "metadata": {},
   "outputs": [],
   "source": []
  },
  {
   "cell_type": "code",
   "execution_count": null,
   "id": "c049ac48-6e58-4b03-beb3-2bbf1c80d99b",
   "metadata": {},
   "outputs": [],
   "source": []
  },
  {
   "cell_type": "markdown",
   "id": "c3f0e61e-1532-4ad1-af25-e1631ab29733",
   "metadata": {},
   "source": [
    "## Pandas: DataFrame: Sorting: "
   ]
  },
  {
   "cell_type": "code",
   "execution_count": null,
   "id": "90487fa4-b78f-42c8-ac0a-a976dec40c31",
   "metadata": {},
   "outputs": [],
   "source": []
  },
  {
   "cell_type": "code",
   "execution_count": null,
   "id": "ba64d649-bee6-44a5-844c-25105623b8ab",
   "metadata": {},
   "outputs": [],
   "source": []
  },
  {
   "cell_type": "markdown",
   "id": "7772b985-a97c-4b0d-beb0-4c7edc431c9a",
   "metadata": {},
   "source": [
    "## Pandas: DataFrame: groupby: "
   ]
  },
  {
   "cell_type": "code",
   "execution_count": null,
   "id": "d098f669-975c-430f-887c-57dc59341dd7",
   "metadata": {},
   "outputs": [],
   "source": []
  },
  {
   "cell_type": "code",
   "execution_count": null,
   "id": "aafb735a-32c2-4650-9c9a-aa0d7a71eb57",
   "metadata": {},
   "outputs": [],
   "source": []
  },
  {
   "cell_type": "markdown",
   "id": "468dbc27-15f9-49c2-8923-f36b89a1486f",
   "metadata": {},
   "source": [
    "## Pandas: DataFrame: Merging and Joining: "
   ]
  },
  {
   "cell_type": "code",
   "execution_count": null,
   "id": "aa4505b7-ae4a-460b-89f7-3908303ba372",
   "metadata": {},
   "outputs": [],
   "source": []
  },
  {
   "cell_type": "code",
   "execution_count": null,
   "id": "e2ceb61a-aada-4332-9032-ee40e176cfbc",
   "metadata": {},
   "outputs": [],
   "source": []
  },
  {
   "cell_type": "markdown",
   "id": "d4d4606d-6aa6-4f37-b144-80cd08b95463",
   "metadata": {},
   "source": [
    "## Pandas: DataFrame: Concat: "
   ]
  },
  {
   "cell_type": "code",
   "execution_count": null,
   "id": "e06fda9f-92c0-4ee9-92ff-e81f89cada5a",
   "metadata": {},
   "outputs": [],
   "source": []
  },
  {
   "cell_type": "code",
   "execution_count": null,
   "id": "3b363466-cb1c-433a-b398-4596cb693fef",
   "metadata": {},
   "outputs": [],
   "source": []
  },
  {
   "cell_type": "markdown",
   "id": "f4c3b7b7-288f-4977-aac3-81241875ee68",
   "metadata": {},
   "source": [
    "## Pandas: DataFrame: Adding, Grouping: "
   ]
  },
  {
   "cell_type": "code",
   "execution_count": null,
   "id": "0bb87ab5-15be-4615-a55e-d1b48fb0a32a",
   "metadata": {},
   "outputs": [],
   "source": []
  },
  {
   "cell_type": "code",
   "execution_count": null,
   "id": "0b43b78a-86cd-429e-9aeb-8f501f2be3a5",
   "metadata": {},
   "outputs": [],
   "source": []
  },
  {
   "cell_type": "code",
   "execution_count": null,
   "id": "d003aeec-6ee9-4e1e-bcb3-a4314120834e",
   "metadata": {},
   "outputs": [],
   "source": []
  },
  {
   "cell_type": "markdown",
   "id": "01525151-21ea-468b-86ff-93167619da6a",
   "metadata": {},
   "source": [
    "## Pandas: DataFrame: Data and Time:  "
   ]
  },
  {
   "cell_type": "code",
   "execution_count": null,
   "id": "0817000a-2aca-4545-b48a-0c4ae02dff5c",
   "metadata": {},
   "outputs": [],
   "source": []
  },
  {
   "cell_type": "code",
   "execution_count": null,
   "id": "8a11ff1d-d6aa-49ec-8848-79b3e3165322",
   "metadata": {},
   "outputs": [],
   "source": []
  },
  {
   "cell_type": "markdown",
   "id": "95ef1098-788d-43f7-84ed-f3b73bfe8fe6",
   "metadata": {},
   "source": [
    "## Pandas: DataFrame: Concat Multiple csv files: "
   ]
  },
  {
   "cell_type": "code",
   "execution_count": null,
   "id": "de3765c8-0928-4047-99fd-29e7999a871d",
   "metadata": {},
   "outputs": [],
   "source": []
  },
  {
   "cell_type": "code",
   "execution_count": null,
   "id": "af3721c2-b281-472f-b5e8-6991dc645135",
   "metadata": {},
   "outputs": [],
   "source": []
  }
 ],
 "metadata": {
  "kernelspec": {
   "display_name": "Python 3 (ipykernel)",
   "language": "python",
   "name": "python3"
  },
  "language_info": {
   "codemirror_mode": {
    "name": "ipython",
    "version": 3
   },
   "file_extension": ".py",
   "mimetype": "text/x-python",
   "name": "python",
   "nbconvert_exporter": "python",
   "pygments_lexer": "ipython3",
   "version": "3.11.5"
  }
 },
 "nbformat": 4,
 "nbformat_minor": 5
}
