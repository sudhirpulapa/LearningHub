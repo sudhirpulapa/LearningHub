{
 "cells": [
  {
   "cell_type": "code",
   "execution_count": 2,
   "id": "ef81acf5-4cee-44af-a7d7-8605465f6276",
   "metadata": {},
   "outputs": [
    {
     "name": "stdout",
     "output_type": "stream",
     "text": [
      "Pandas version: 2.0.3\n"
     ]
    }
   ],
   "source": [
    "import pandas as pd \n",
    "\n",
    "# Print the pandas version \n",
    "print(f\"Pandas version: {pd.__version__}\")"
   ]
  },
  {
   "cell_type": "markdown",
   "id": "b3721690-228f-4a90-aab2-6b5b6d8fdb3a",
   "metadata": {},
   "source": [
    "### Empty Series Object: "
   ]
  },
  {
   "cell_type": "code",
   "execution_count": 3,
   "id": "b1268fa6-06be-4d88-a52c-b39da172218f",
   "metadata": {},
   "outputs": [
    {
     "name": "stdout",
     "output_type": "stream",
     "text": [
      "Series([], dtype: object) <class 'pandas.core.series.Series'>\n"
     ]
    }
   ],
   "source": [
    "# Creating empty Series object \n",
    "s = pd.Series()\n",
    "print(s, type(s)) "
   ]
  },
  {
   "cell_type": "markdown",
   "id": "4eaac4ba-c9a9-4f16-b4b9-ba1a0045b9b0",
   "metadata": {},
   "source": [
    "### Create Series Object using List:"
   ]
  },
  {
   "cell_type": "code",
   "execution_count": 4,
   "id": "412e21e4-3475-4456-8174-af51d0d18436",
   "metadata": {},
   "outputs": [
    {
     "name": "stdout",
     "output_type": "stream",
     "text": [
      "0    111\n",
      "1    222\n",
      "2    333\n",
      "3    444\n",
      "4    555\n",
      "dtype: int64\n"
     ]
    }
   ],
   "source": [
    "# Creating series object using list \n",
    "m = [111, 222, 333, 444, 555]\n",
    "s = pd.Series(m) \n",
    "print(s) "
   ]
  },
  {
   "cell_type": "markdown",
   "id": "b7cd4372-6c0c-4d50-9581-5ed31b89d3b0",
   "metadata": {},
   "source": [
    "### Create Series object using List, assigning a name "
   ]
  },
  {
   "cell_type": "code",
   "execution_count": 5,
   "id": "bf6c4732-8ea3-4dc3-bb70-43aa422342c8",
   "metadata": {},
   "outputs": [
    {
     "name": "stdout",
     "output_type": "stream",
     "text": [
      "0    111\n",
      "1    222\n",
      "2    333\n",
      "3    444\n",
      "4    555\n",
      "Name: marks, dtype: int64\n"
     ]
    }
   ],
   "source": [
    "# Creating series object using list and assigning a name \n",
    "s = pd.Series(m, name = \"marks\") \n",
    "print(s) "
   ]
  },
  {
   "cell_type": "code",
   "execution_count": 6,
   "id": "e0686985-4dc3-40ce-bda9-4a15c2250a14",
   "metadata": {},
   "outputs": [
    {
     "name": "stdout",
     "output_type": "stream",
     "text": [
      "0           Pushpa\n",
      "1              RRR\n",
      "2        Gangubhai\n",
      "3    KFG Chapter 2\n",
      "Name: movies, dtype: object\n"
     ]
    }
   ],
   "source": [
    "n = [\"Pushpa\", \"RRR\", \"Gangubhai\", \"KFG Chapter 2\"]\n",
    "s = pd.Series(n, name = \"movies\") \n",
    "print(s) "
   ]
  },
  {
   "cell_type": "markdown",
   "id": "5b4d1535-af7c-4e2c-a540-1f205fa9687e",
   "metadata": {},
   "source": [
    "### Create a Series object by using range and list "
   ]
  },
  {
   "cell_type": "code",
   "execution_count": 8,
   "id": "043746e4-2ee0-48f1-952b-b4b14719d2a2",
   "metadata": {},
   "outputs": [
    {
     "name": "stdout",
     "output_type": "stream",
     "text": [
      "0      0\n",
      "1      1\n",
      "2      2\n",
      "3      3\n",
      "4      4\n",
      "      ..\n",
      "95    95\n",
      "96    96\n",
      "97    97\n",
      "98    98\n",
      "99    99\n",
      "Length: 100, dtype: int64\n"
     ]
    }
   ],
   "source": [
    "# Using Range and List\n",
    "r = range(100) \n",
    "a = list(r) \n",
    "s = pd.Series(a) \n",
    "print(s) "
   ]
  },
  {
   "cell_type": "markdown",
   "id": "9c6439d7-e203-40c3-a32d-5775f19f3c12",
   "metadata": {},
   "source": [
    "### Creating a Series from Array"
   ]
  },
  {
   "cell_type": "code",
   "execution_count": 10,
   "id": "c1f9d7f0-eac2-45ab-afcd-b6ac3bcc2e7d",
   "metadata": {},
   "outputs": [
    {
     "name": "stdout",
     "output_type": "stream",
     "text": [
      "[10 20 30 40] <class 'numpy.ndarray'>\n",
      "0    10\n",
      "1    20\n",
      "2    30\n",
      "3    40\n",
      "dtype: int32\n"
     ]
    }
   ],
   "source": [
    "# Creating ndarray\n",
    "import numpy as np \n",
    "\n",
    "values = [10, 20, 30, 40]\n",
    "data = np.array(values) \n",
    "\n",
    "print(data, type(data))\n",
    "\n",
    "s = pd.Series(data) \n",
    "print(s) "
   ]
  },
  {
   "cell_type": "code",
   "execution_count": 11,
   "id": "f17d4909-a4f2-451d-9016-34b26d8f248d",
   "metadata": {},
   "outputs": [
    {
     "name": "stdout",
     "output_type": "stream",
     "text": [
      "0    Allu Arjun\n",
      "1    Ram Charan\n",
      "2       Jr. NTR\n",
      "3       Prabhas\n",
      "dtype: object\n"
     ]
    }
   ],
   "source": [
    "# Creating Series using ndarray \n",
    "actors = [\"Allu Arjun\", \"Ram Charan\", \"Jr. NTR\", \"Prabhas\"]\n",
    "data = np.array(actors) \n",
    "s = pd.Series(data) \n",
    "print(s) "
   ]
  },
  {
   "cell_type": "code",
   "execution_count": 12,
   "id": "accd1de8-8f99-4aa0-a76f-4fbaba78ed4c",
   "metadata": {},
   "outputs": [
    {
     "name": "stdout",
     "output_type": "stream",
     "text": [
      "0      Kriti\n",
      "1       Alia\n",
      "2    Deepika\n",
      "3    Kareena\n",
      "dtype: object\n"
     ]
    }
   ],
   "source": [
    "# Creating Series using ndarray \n",
    "actress = [\"Kriti\", \"Alia\", \"Deepika\", \"Kareena\"]\n",
    "data = np.array(actress) \n",
    "s = pd.Series(data) \n",
    "print(s) "
   ]
  },
  {
   "cell_type": "markdown",
   "id": "4bcac962-3c1e-4486-a989-7943524b6790",
   "metadata": {},
   "source": [
    "### Index in Series"
   ]
  },
  {
   "cell_type": "code",
   "execution_count": 14,
   "id": "632901bb-e593-40b0-b191-9943c67586bb",
   "metadata": {},
   "outputs": [
    {
     "name": "stdout",
     "output_type": "stream",
     "text": [
      "0    145\n",
      "1    142\n",
      "2     38\n",
      "3     13\n",
      "Name: counts, dtype: int64\n"
     ]
    }
   ],
   "source": [
    "# Creating Series object and giving name\n",
    "v = [145, 142, 38, 13]\n",
    "s = pd.Series(v, name = \"counts\") \n",
    "print(s) "
   ]
  },
  {
   "cell_type": "code",
   "execution_count": 16,
   "id": "54e80485-a0d8-42d0-9f6d-adaf76f925aa",
   "metadata": {},
   "outputs": [
    {
     "name": "stdout",
     "output_type": "stream",
     "text": [
      "10    145\n",
      "20    142\n",
      "30     38\n",
      "40     13\n",
      "Name: counts, dtype: int64\n"
     ]
    }
   ],
   "source": [
    "# Creating Series object and giving name and index \n",
    "i = [10, 20, 30, 40]\n",
    "s = pd.Series(v, name = \"counts\", index = i) \n",
    "print(s) "
   ]
  },
  {
   "cell_type": "code",
   "execution_count": 17,
   "id": "a5fc020b-6f1f-4f52-99d6-85ec32819050",
   "metadata": {},
   "outputs": [
    {
     "name": "stdout",
     "output_type": "stream",
     "text": [
      "Nokia      1000\n",
      "Samsung    2000\n",
      "Oppo       3000\n",
      "iPhone6    4000\n",
      "Name: mobiles, dtype: int64\n"
     ]
    }
   ],
   "source": [
    "# Creating Series object and giving name and index \n",
    "prices = [1000, 2000, 3000, 4000]\n",
    "products = [\"Nokia\", \"Samsung\", \"Oppo\", \"iPhone6\"]\n",
    "s = pd.Series(prices, name = \"mobiles\", index = products) \n",
    "print(s) "
   ]
  },
  {
   "cell_type": "markdown",
   "id": "d0be25bb-9fb0-4307-9ba2-89893c2c8d63",
   "metadata": {},
   "source": [
    "### Creating Series and Accessing Values "
   ]
  },
  {
   "cell_type": "code",
   "execution_count": 19,
   "id": "9ca306b7-6dab-4496-bfe5-ae342b909983",
   "metadata": {},
   "outputs": [
    {
     "name": "stdout",
     "output_type": "stream",
     "text": [
      "0    56\n",
      "1    45\n",
      "2    35\n",
      "3    41\n",
      "4    44\n",
      "5    60\n",
      "Name: marks, dtype: int64\n",
      "\n",
      "56 45 35 41 44 60\n"
     ]
    }
   ],
   "source": [
    "# Creating Series and Accessing values \n",
    "v = [56, 45, 35, 41, 44, 60]\n",
    "s = pd.Series(v, name = \"marks\") \n",
    "print(s) \n",
    "print()\n",
    "print(s[0], s[1], s[2], s[3], s[4], s[5]) "
   ]
  },
  {
   "cell_type": "code",
   "execution_count": 21,
   "id": "d14df3b6-8e67-448e-83d6-7e69cf72bf09",
   "metadata": {},
   "outputs": [
    {
     "name": "stdout",
     "output_type": "stream",
     "text": [
      "Nokia      1000\n",
      "Samsung    2000\n",
      "Oppo       3000\n",
      "iPhone     4000\n",
      "Name: mobiles, dtype: int64\n",
      "\n",
      "1000\n",
      "2000\n"
     ]
    }
   ],
   "source": [
    "# Creating Series and Accessing Values \n",
    "prices = [1000, 2000, 3000, 4000]\n",
    "products = [\"Nokia\", \"Samsung\", \"Oppo\", \"iPhone\"]\n",
    "s = pd.Series(prices, name = \"mobiles\", index = products)\n",
    "print(s) \n",
    "print()\n",
    "print(s[\"Nokia\"]) \n",
    "print(s[\"Samsung\"]) "
   ]
  },
  {
   "cell_type": "markdown",
   "id": "46ab60bf-3790-43d5-9c3c-f5a84049825a",
   "metadata": {},
   "source": [
    "### NaN Values: "
   ]
  },
  {
   "cell_type": "code",
   "execution_count": 23,
   "id": "bd8905f6-056c-4a5d-971f-1f36f76adb46",
   "metadata": {},
   "outputs": [
    {
     "name": "stdout",
     "output_type": "stream",
     "text": [
      "0    36.0\n",
      "1    70.0\n",
      "2     NaN\n",
      "3    60.0\n",
      "dtype: float64\n"
     ]
    }
   ],
   "source": [
    "# Creating Series with NaN values \n",
    "marks = [36, 70, np.nan, 60]\n",
    "s = pd.Series(marks) \n",
    "print(s) "
   ]
  },
  {
   "cell_type": "code",
   "execution_count": 24,
   "id": "1413c5d3-bc8a-41bd-a529-571c15d7ee23",
   "metadata": {},
   "outputs": [
    {
     "name": "stdout",
     "output_type": "stream",
     "text": [
      "0       Arjun\n",
      "1     Krishna\n",
      "2    Draupadi\n",
      "3       Karna\n",
      "dtype: object\n"
     ]
    }
   ],
   "source": [
    "# Creating Series with NaN values \n",
    "names = [\"Arjun\", \"Krishna\", \"Draupadi\", \"Karna\"]\n",
    "s = pd.Series(names) \n",
    "print(s) "
   ]
  },
  {
   "cell_type": "markdown",
   "id": "0f97ba08-8d52-4d6f-b0b7-f850f9372dfa",
   "metadata": {},
   "source": [
    "### Series Attributes\n",
    "\n",
    "1. `values`\n",
    "2. `index`\n",
    "3. `dtypes`\n",
    "4. `size`"
   ]
  },
  {
   "cell_type": "markdown",
   "id": "7cb5ba0b-f095-4a53-874f-eee6b6406bf9",
   "metadata": {},
   "source": [
    "`values`: a pre-defined attribute in Series class"
   ]
  },
  {
   "cell_type": "code",
   "execution_count": 26,
   "id": "8ddf231f-cedb-4338-9bbf-67f10ac3387e",
   "metadata": {},
   "outputs": [
    {
     "name": "stdout",
     "output_type": "stream",
     "text": [
      "0    111\n",
      "1    222\n",
      "2    333\n",
      "3    444\n",
      "4    555\n",
      "5    666\n",
      "dtype: int64\n",
      "[111 222 333 444 555 666]\n"
     ]
    }
   ],
   "source": [
    "# Accessing values attribute \n",
    "marks = [111, 222, 333, 444, 555, 666]\n",
    "s = pd.Series(marks) \n",
    "print(s) \n",
    "print(s.values) "
   ]
  },
  {
   "cell_type": "code",
   "execution_count": 27,
   "id": "a95c862a-9c47-4115-ae03-83078cf8e4a9",
   "metadata": {},
   "outputs": [
    {
     "name": "stdout",
     "output_type": "stream",
     "text": [
      "0         RRR\n",
      "1    Bahubali\n",
      "2      Pushpa\n",
      "3         KGF\n",
      "dtype: object\n",
      "['RRR' 'Bahubali' 'Pushpa' 'KGF']\n"
     ]
    }
   ],
   "source": [
    "# Accessing values attribute \n",
    "names = [\"RRR\", \"Bahubali\", \"Pushpa\", \"KGF\"]\n",
    "s = pd.Series(names) \n",
    "print(s)\n",
    "print(s.values) "
   ]
  },
  {
   "cell_type": "markdown",
   "id": "9d8388bf-89e6-49b4-bc53-9e5f7e597bca",
   "metadata": {},
   "source": [
    "`index` attribute: a pre-defined attribute in Series class"
   ]
  },
  {
   "cell_type": "code",
   "execution_count": 28,
   "id": "bcec196f-0dd1-42d6-bb71-36676352cdce",
   "metadata": {},
   "outputs": [
    {
     "name": "stdout",
     "output_type": "stream",
     "text": [
      "RangeIndex(start=0, stop=4, step=1)\n"
     ]
    }
   ],
   "source": [
    "print(s.index)"
   ]
  },
  {
   "cell_type": "code",
   "execution_count": 30,
   "id": "e8adbf44-0f53-4954-8380-8b9eaa4dd1ff",
   "metadata": {},
   "outputs": [
    {
     "data": {
      "text/plain": [
       "Index([11, 22, 33, 44, 55], dtype='int64')"
      ]
     },
     "execution_count": 30,
     "metadata": {},
     "output_type": "execute_result"
    }
   ],
   "source": [
    "s.index"
   ]
  },
  {
   "cell_type": "code",
   "execution_count": 29,
   "id": "f61ad8c1-3b56-4a60-9df7-21c4af357d59",
   "metadata": {},
   "outputs": [
    {
     "name": "stdout",
     "output_type": "stream",
     "text": [
      "11    111\n",
      "22    222\n",
      "33    333\n",
      "44    444\n",
      "55    555\n",
      "dtype: int64\n",
      "Index([11, 22, 33, 44, 55], dtype='int64')\n"
     ]
    }
   ],
   "source": [
    "marks = [111, 222, 333, 444, 555]\n",
    "i = [11, 22, 33, 44, 55]\n",
    "s = pd.Series(marks, index = i) \n",
    "print(s) \n",
    "print(s.index) "
   ]
  },
  {
   "cell_type": "markdown",
   "id": "5e70676f-70fb-4dbb-896e-c8180269bdbc",
   "metadata": {},
   "source": [
    "`dtypes:` a pre-defined attribute in Series class"
   ]
  },
  {
   "cell_type": "code",
   "execution_count": 31,
   "id": "b2483102-fc20-478e-9fc0-3128629a4f45",
   "metadata": {},
   "outputs": [
    {
     "data": {
      "text/plain": [
       "dtype('int64')"
      ]
     },
     "execution_count": 31,
     "metadata": {},
     "output_type": "execute_result"
    }
   ],
   "source": [
    "s.dtypes "
   ]
  },
  {
   "cell_type": "code",
   "execution_count": 32,
   "id": "4cf5778e-06dc-46c8-ad4f-b7225a2f9eae",
   "metadata": {},
   "outputs": [
    {
     "name": "stdout",
     "output_type": "stream",
     "text": [
      "0    1000.0\n",
      "1    2000.0\n",
      "2    3000.0\n",
      "3    4000.0\n",
      "4    5000.0\n",
      "dtype: float64 float64\n"
     ]
    }
   ],
   "source": [
    "# Accessing dtypes attribute \n",
    "salaries = [1000.0, 2000.0, 3000.0, 4000.0, 5000.0]\n",
    "s = pd.Series(salaries) \n",
    "print(s, s.dtypes) "
   ]
  },
  {
   "cell_type": "code",
   "execution_count": 33,
   "id": "268b8614-3387-46ec-9cee-ad92d4ddc680",
   "metadata": {},
   "outputs": [
    {
     "name": "stdout",
     "output_type": "stream",
     "text": [
      "0     Ram\n",
      "1    Allu\n",
      "2     NTR\n",
      "3    Teja\n",
      "dtype: object object\n"
     ]
    }
   ],
   "source": [
    "# Accessing dtypes attributes \n",
    "names = [\"Ram\", \"Allu\", \"NTR\", \"Teja\"]\n",
    "s = pd.Series(names) \n",
    "print(s, s.dtypes) "
   ]
  },
  {
   "cell_type": "markdown",
   "id": "255a790d-e40b-4896-995a-6f401ab61835",
   "metadata": {},
   "source": [
    "`size` attribute: "
   ]
  },
  {
   "cell_type": "code",
   "execution_count": 35,
   "id": "947b242b-098f-4a83-9aeb-1f3821734468",
   "metadata": {},
   "outputs": [
    {
     "name": "stdout",
     "output_type": "stream",
     "text": [
      "0    56\n",
      "1    45\n",
      "2    35\n",
      "3    41\n",
      "4    44\n",
      "5    60\n",
      "dtype: int64\n",
      "6\n"
     ]
    }
   ],
   "source": [
    "# Accessing size attribute\n",
    "marks = [56, 45, 35, 41, 44, 60]\n",
    "s = pd.Series(marks) \n",
    "print(s) \n",
    "print(s.size) "
   ]
  },
  {
   "cell_type": "markdown",
   "id": "05e73350-3d11-4b3a-874a-394515f0b204",
   "metadata": {},
   "source": [
    "### Series Methods:\n",
    "\n",
    "1. `head()`\n",
    "2. `tail()`\n",
    "3. `sum()`\n",
    "4. `count()`\n",
    "5. `mean()`\n",
    "6. `describe()`\n",
    "7. `unique()`\n",
    "8. `nunique()`"
   ]
  },
  {
   "cell_type": "markdown",
   "id": "04b0814d-0338-46ff-8b12-df66d7ee9e83",
   "metadata": {},
   "source": [
    "#### `head()`"
   ]
  },
  {
   "cell_type": "code",
   "execution_count": 37,
   "id": "e9198659-b87b-440c-a394-4de855dc9cc3",
   "metadata": {},
   "outputs": [
    {
     "name": "stdout",
     "output_type": "stream",
     "text": [
      "0    56\n",
      "1    45\n",
      "2    35\n",
      "3    41\n",
      "4    60\n",
      "5    57\n",
      "6    56\n",
      "7    56\n",
      "dtype: int64\n",
      "\n",
      "0    56\n",
      "1    45\n",
      "2    35\n",
      "3    41\n",
      "4    60\n",
      "dtype: int64\n"
     ]
    }
   ],
   "source": [
    "# Accessing first five values from Series\n",
    "marks = [56, 45, 35, 41, 60, 57, 56, 56]\n",
    "s = pd.Series(marks) \n",
    "\n",
    "print(s) \n",
    "print()\n",
    "print(s.head())"
   ]
  },
  {
   "cell_type": "markdown",
   "id": "357e676c-123c-41ef-8535-8e20e830772a",
   "metadata": {},
   "source": [
    "#### `tail()`"
   ]
  },
  {
   "cell_type": "code",
   "execution_count": 38,
   "id": "c99a8da6-9884-466b-96bd-ac16a8e9da09",
   "metadata": {},
   "outputs": [
    {
     "name": "stdout",
     "output_type": "stream",
     "text": [
      "0    56\n",
      "1    45\n",
      "2    35\n",
      "3    41\n",
      "4    60\n",
      "5    57\n",
      "6    56\n",
      "7    56\n",
      "dtype: int64\n",
      "\n",
      "3    41\n",
      "4    60\n",
      "5    57\n",
      "6    56\n",
      "7    56\n",
      "dtype: int64\n"
     ]
    }
   ],
   "source": [
    "print(s) \n",
    "print()\n",
    "print(s.tail())"
   ]
  },
  {
   "cell_type": "markdown",
   "id": "e632e637-4424-4c5d-80bb-dabf552ac108",
   "metadata": {},
   "source": [
    "#### `sum():`"
   ]
  },
  {
   "cell_type": "code",
   "execution_count": 39,
   "id": "7941b887-97b7-4c4b-9042-05c3f03743c4",
   "metadata": {},
   "outputs": [
    {
     "name": "stdout",
     "output_type": "stream",
     "text": [
      "0    56\n",
      "1    45\n",
      "2    35\n",
      "3    41\n",
      "4    44\n",
      "5    60\n",
      "dtype: int64\n",
      "281\n"
     ]
    }
   ],
   "source": [
    "# Sum of series of values \n",
    "sales = [56, 45, 35, 41, 44, 60]\n",
    "s = pd.Series(sales) \n",
    "print(s)\n",
    "print(s.sum())"
   ]
  },
  {
   "cell_type": "code",
   "execution_count": 40,
   "id": "9c649074-50b4-46d4-a367-ce345deabe7b",
   "metadata": {},
   "outputs": [
    {
     "name": "stdout",
     "output_type": "stream",
     "text": [
      "0    56.0\n",
      "1    45.0\n",
      "2    35.0\n",
      "3    41.0\n",
      "4     NaN\n",
      "5    60.0\n",
      "6     NaN\n",
      "dtype: float64\n",
      "237.0\n"
     ]
    }
   ],
   "source": [
    "# Get the sum of series of values \n",
    "marks = [56, 45, 35, 41, np.nan, 60, np.nan]\n",
    "s = pd.Series(marks) \n",
    "print(s) \n",
    "print(s.sum())"
   ]
  },
  {
   "cell_type": "markdown",
   "id": "efcc617e-c8a4-48c2-8ca0-00b2b41417e7",
   "metadata": {},
   "source": [
    "#### `count()`"
   ]
  },
  {
   "cell_type": "code",
   "execution_count": 41,
   "id": "bc0474e2-b56a-4b65-8310-09a69d968308",
   "metadata": {},
   "outputs": [
    {
     "name": "stdout",
     "output_type": "stream",
     "text": [
      "0    56.0\n",
      "1    45.0\n",
      "2    35.0\n",
      "3    41.0\n",
      "4     NaN\n",
      "5    60.0\n",
      "6     NaN\n",
      "dtype: float64\n",
      "5\n"
     ]
    }
   ],
   "source": [
    "marks = [56, 45, 35, 41, np.nan, 60, np.nan]\n",
    "s = pd.Series(marks) \n",
    "print(s) \n",
    "print(s.count())"
   ]
  },
  {
   "cell_type": "markdown",
   "id": "29976656-1dc7-44d3-91b6-5f6a7bf422e2",
   "metadata": {},
   "source": [
    "#### `mean()`"
   ]
  },
  {
   "cell_type": "code",
   "execution_count": 42,
   "id": "2ee4a08d-c6b5-48e8-ab4e-b0fd936c1baf",
   "metadata": {},
   "outputs": [
    {
     "name": "stdout",
     "output_type": "stream",
     "text": [
      "0    1000\n",
      "1    2000\n",
      "2    3000\n",
      "3    4000\n",
      "4    5000\n",
      "dtype: int64\n",
      "3000.0\n"
     ]
    }
   ],
   "source": [
    "sales = [1000, 2000, 3000, 4000, 5000]\n",
    "s = pd.Series(sales) \n",
    "print(s) \n",
    "print(s.mean())"
   ]
  },
  {
   "cell_type": "markdown",
   "id": "c3a37e34-35ba-4139-8d81-7931c52f048d",
   "metadata": {},
   "source": [
    "#### `describe()`"
   ]
  },
  {
   "cell_type": "code",
   "execution_count": 43,
   "id": "2523d042-2a70-43fc-80b5-5684ddef697c",
   "metadata": {},
   "outputs": [
    {
     "name": "stdout",
     "output_type": "stream",
     "text": [
      "count       5.00000\n",
      "mean     3000.00000\n",
      "std      1581.13883\n",
      "min      1000.00000\n",
      "25%      2000.00000\n",
      "50%      3000.00000\n",
      "75%      4000.00000\n",
      "max      5000.00000\n",
      "dtype: float64\n"
     ]
    }
   ],
   "source": [
    "print(s.describe())"
   ]
  },
  {
   "cell_type": "code",
   "execution_count": 44,
   "id": "1eeecc07-8142-4931-8397-17a3d9e7a452",
   "metadata": {},
   "outputs": [
    {
     "data": {
      "text/plain": [
       "count       5.00000\n",
       "mean     3000.00000\n",
       "std      1581.13883\n",
       "min      1000.00000\n",
       "25%      2000.00000\n",
       "50%      3000.00000\n",
       "75%      4000.00000\n",
       "max      5000.00000\n",
       "dtype: float64"
      ]
     },
     "execution_count": 44,
     "metadata": {},
     "output_type": "execute_result"
    }
   ],
   "source": [
    "s.describe()"
   ]
  },
  {
   "cell_type": "markdown",
   "id": "647622d5-1d94-4511-8e94-5188becc543b",
   "metadata": {},
   "source": [
    "#### `unique()`"
   ]
  },
  {
   "cell_type": "code",
   "execution_count": 45,
   "id": "633a7746-d9b4-452a-bc75-c2c916a92d4b",
   "metadata": {},
   "outputs": [
    {
     "name": "stdout",
     "output_type": "stream",
     "text": [
      "0    56\n",
      "1    45\n",
      "2    35\n",
      "3    41\n",
      "4    60\n",
      "5    57\n",
      "6    56\n",
      "7    56\n",
      "dtype: int64\n",
      "[56 45 35 41 60 57]\n"
     ]
    }
   ],
   "source": [
    "marks = [56, 45, 35, 41, 60, 57, 56, 56]\n",
    "s = pd.Series(marks) \n",
    "print(s) \n",
    "print(s.unique())"
   ]
  },
  {
   "cell_type": "code",
   "execution_count": 46,
   "id": "b3e2e595-b20a-48fc-a45d-9da817d71fc1",
   "metadata": {},
   "outputs": [
    {
     "name": "stdout",
     "output_type": "stream",
     "text": [
      "6\n"
     ]
    }
   ],
   "source": [
    "print(s.nunique())"
   ]
  },
  {
   "cell_type": "code",
   "execution_count": null,
   "id": "34282b27-b75d-4098-9247-243482ca8277",
   "metadata": {},
   "outputs": [],
   "source": []
  }
 ],
 "metadata": {
  "kernelspec": {
   "display_name": "Python 3 (ipykernel)",
   "language": "python",
   "name": "python3"
  },
  "language_info": {
   "codemirror_mode": {
    "name": "ipython",
    "version": 3
   },
   "file_extension": ".py",
   "mimetype": "text/x-python",
   "name": "python",
   "nbconvert_exporter": "python",
   "pygments_lexer": "ipython3",
   "version": "3.11.5"
  }
 },
 "nbformat": 4,
 "nbformat_minor": 5
}
