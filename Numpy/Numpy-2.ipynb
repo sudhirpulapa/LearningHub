{
 "cells": [
  {
   "cell_type": "markdown",
   "id": "0f814e0a-21a3-4420-8a0d-bb231e7acb03",
   "metadata": {},
   "source": [
    "# **Numpy**"
   ]
  },
  {
   "cell_type": "markdown",
   "id": "0cc91f32-188b-46f5-8edf-0dfa9564b6c7",
   "metadata": {},
   "source": [
    "## **Array Attributes:**\n",
    "\n",
    "1. `a.ndim:` Returns the dimension of the array \n",
    "2. `a.shape:` Returns the shape of the array \n",
    "3. `size:` To get total number of elements \n",
    "4. `dtype:` To get data type of array elements \n",
    "5. `itemsize:` four bytes  "
   ]
  },
  {
   "cell_type": "code",
   "execution_count": 1,
   "id": "4d566945-8f74-411f-8d5e-414462bc19b7",
   "metadata": {},
   "outputs": [],
   "source": [
    "import numpy as np"
   ]
  },
  {
   "cell_type": "code",
   "execution_count": 2,
   "id": "37dcdcb9-9a64-4000-9f16-4a5a2ab83f91",
   "metadata": {},
   "outputs": [
    {
     "data": {
      "text/plain": [
       "array([10, 20, 30, 40, 50])"
      ]
     },
     "execution_count": 2,
     "metadata": {},
     "output_type": "execute_result"
    }
   ],
   "source": [
    "a = np.array([10, 20, 30, 40, 50]) \n",
    "a "
   ]
  },
  {
   "cell_type": "code",
   "execution_count": 3,
   "id": "f915e061-d423-4b26-950a-d3c8ac44fdbc",
   "metadata": {},
   "outputs": [
    {
     "data": {
      "text/plain": [
       "(1, (5,), 5, dtype('int32'), 4)"
      ]
     },
     "execution_count": 3,
     "metadata": {},
     "output_type": "execute_result"
    }
   ],
   "source": [
    "a.ndim, a.shape, a.size, a.dtype, a.itemsize"
   ]
  },
  {
   "cell_type": "code",
   "execution_count": 5,
   "id": "de8cbb2d-1ac2-43c3-8d4e-3496eb90eba9",
   "metadata": {},
   "outputs": [
    {
     "name": "stdout",
     "output_type": "stream",
     "text": [
      "The dimension of an array: 1\n",
      "The shape of an array: (5,)\n",
      "The size of an array: 5\n",
      "The data type of an array: int32\n",
      "The item size of an array: 4\n"
     ]
    }
   ],
   "source": [
    "print(f\"The dimension of an array: {a.ndim}\") \n",
    "print(f\"The shape of an array: {a.shape}\") \n",
    "print(f\"The size of an array: {a.size}\") \n",
    "print(f\"The data type of an array: {a.dtype}\") \n",
    "print(f\"The item size of an array: {a.itemsize}\") # 32 bits = 4 bytes "
   ]
  },
  {
   "cell_type": "code",
   "execution_count": 7,
   "id": "8bf75b9d-ed53-416c-bfc3-7aa00d79ef67",
   "metadata": {},
   "outputs": [
    {
     "data": {
      "text/plain": [
       "array([[10., 20., 30.],\n",
       "       [40., 50., 60.],\n",
       "       [70., 80., 90.]])"
      ]
     },
     "execution_count": 7,
     "metadata": {},
     "output_type": "execute_result"
    }
   ],
   "source": [
    "a = np.array([[10, 20, 30], [40, 50, 60], [70, 80, 90]], dtype = \"float\")\n",
    "a "
   ]
  },
  {
   "cell_type": "code",
   "execution_count": 8,
   "id": "d1c34876-11af-4f19-b7db-48f6a6994ddd",
   "metadata": {},
   "outputs": [
    {
     "name": "stdout",
     "output_type": "stream",
     "text": [
      "The dimension of an array: 2\n",
      "The shape of an array: (3, 3)\n",
      "The size of an array: 9\n",
      "The data type of an array: float64\n",
      "The item size of an array: 8\n"
     ]
    }
   ],
   "source": [
    "print(f\"The dimension of an array: {a.ndim}\") \n",
    "print(f\"The shape of an array: {a.shape}\") \n",
    "print(f\"The size of an array: {a.size}\") \n",
    "print(f\"The data type of an array: {a.dtype}\") \n",
    "print(f\"The item size of an array: {a.itemsize}\") # 32 bits = 4 bytes "
   ]
  },
  {
   "cell_type": "markdown",
   "id": "9852f0c7-f6fd-4ece-a274-25c85939f6c3",
   "metadata": {},
   "source": [
    "## **Numpy Datatypes:**\n",
    "\n",
    "**Extra datatypes available in Numpy:** \n",
    "* `i`: integer (int8, int16, int32, int64)\n",
    "* `b`: boolean \n",
    "* `u`: unsigned integer \n",
    "* `f`: float (float16, float32, float64)\n",
    "* `c`: complex (complex64, complex28)\n",
    "* `U`: unicode string\n",
    "* `M`: datetime "
   ]
  },
  {
   "cell_type": "code",
   "execution_count": 16,
   "id": "48da3eec-93c6-4a66-92f9-873945283f61",
   "metadata": {},
   "outputs": [],
   "source": [
    "a = np.array([10, 0, 20, 30, 0, 40, 50, 60]) \n",
    "b = a.astype(\"float64\") "
   ]
  },
  {
   "cell_type": "code",
   "execution_count": 17,
   "id": "88c6c384-f7cb-416a-a56e-e3e2bf53c46c",
   "metadata": {},
   "outputs": [
    {
     "data": {
      "text/plain": [
       "(dtype('int32'), dtype('float64'))"
      ]
     },
     "execution_count": 17,
     "metadata": {},
     "output_type": "execute_result"
    }
   ],
   "source": [
    "a.dtype, b.dtype "
   ]
  },
  {
   "cell_type": "code",
   "execution_count": 18,
   "id": "96283cf4-9f61-4735-a57e-8430bde3db11",
   "metadata": {},
   "outputs": [
    {
     "data": {
      "text/plain": [
       "(dtype('int32'), dtype('float64'))"
      ]
     },
     "execution_count": 18,
     "metadata": {},
     "output_type": "execute_result"
    }
   ],
   "source": [
    "f = np.float64(a) \n",
    "a.dtype,  f.dtype"
   ]
  },
  {
   "cell_type": "code",
   "execution_count": 19,
   "id": "67e4427b-cfa8-48b8-a535-a12306569900",
   "metadata": {},
   "outputs": [
    {
     "data": {
      "text/plain": [
       "array([ True, False,  True,  True, False,  True,  True,  True])"
      ]
     },
     "execution_count": 19,
     "metadata": {},
     "output_type": "execute_result"
    }
   ],
   "source": [
    "x = np.bool_(a)\n",
    "x"
   ]
  },
  {
   "cell_type": "code",
   "execution_count": null,
   "id": "b8365235-a107-44d9-8ca8-e83c09430a98",
   "metadata": {},
   "outputs": [],
   "source": []
  }
 ],
 "metadata": {
  "kernelspec": {
   "display_name": "Python 3 (ipykernel)",
   "language": "python",
   "name": "python3"
  },
  "language_info": {
   "codemirror_mode": {
    "name": "ipython",
    "version": 3
   },
   "file_extension": ".py",
   "mimetype": "text/x-python",
   "name": "python",
   "nbconvert_exporter": "python",
   "pygments_lexer": "ipython3",
   "version": "3.11.5"
  }
 },
 "nbformat": 4,
 "nbformat_minor": 5
}
